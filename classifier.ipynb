{
 "cells": [
  {
   "cell_type": "code",
   "execution_count": 41,
   "id": "involved-office",
   "metadata": {},
   "outputs": [],
   "source": [
    "import numpy as np\n",
    "import pandas as pd\n",
    "import h5py\n",
    "import torch\n",
    "import matplotlib.pyplot as plt\n",
    "from sklearn.metrics import roc_auc_score"
   ]
  },
  {
   "cell_type": "code",
   "execution_count": 66,
   "id": "american-research",
   "metadata": {},
   "outputs": [],
   "source": [
    "df_training = pd.read_hdf('./NSubjetiness_TopData/train_subjettiness.h5', key='table')\n",
    "df_val = pd.read_hdf('./NSubjetiness_TopData/val_subjettiness.h5', key='table')\n",
    "df_test = pd.read_hdf('./NSubjetiness_TopData/test_subjettiness.h5', key='table')\n",
    "keys = df_training.keys()"
   ]
  },
  {
   "cell_type": "code",
   "execution_count": 67,
   "id": "systematic-garage",
   "metadata": {},
   "outputs": [],
   "source": [
    "mean_values = []\n",
    "std_values = []\n",
    "for k in range(27):\n",
    "    mean_values.append(np.mean(df_training[keys[k]]))\n",
    "    std_values.append(np.std(df_training[keys[k]]))\n",
    "    df_training[keys[k]] = (df_training[keys[k]] - mean_values[k]) / std_values[k]\n",
    "    df_val[keys[k]] = (df_val[keys[k]] - mean_values[k]) / std_values[k]\n",
    "    df_test[keys[k]] = (df_test[keys[k]] - mean_values[k]) / std_values[k]"
   ]
  },
  {
   "cell_type": "code",
   "execution_count": 68,
   "id": "amino-calendar",
   "metadata": {},
   "outputs": [],
   "source": [
    "def removeNaN(df):\n",
    "    for i in range(len(df)):\n",
    "        if(i % 5000 == 0):\n",
    "            print(i / len(df) * 100)\n",
    "        for j in range(len(keys)):\n",
    "            if not df.iloc[i][j] == df.iloc[i][j]:\n",
    "                print(\"yes\", i, j)\n",
    "                df.drop(df.index[i], inplace=True)"
   ]
  },
  {
   "cell_type": "code",
   "execution_count": null,
   "id": "paperback-gravity",
   "metadata": {},
   "outputs": [],
   "source": [
    "#removeNaN(df_training)\n",
    "#removeNaN(df_val)\n",
    "removeNaN(df_test)"
   ]
  },
  {
   "cell_type": "code",
   "execution_count": 69,
   "id": "unusual-palestinian",
   "metadata": {},
   "outputs": [],
   "source": [
    "df_training.drop(df_training.index[456856], inplace=True)\n",
    "df_val.drop(df_val.index[199765], inplace=True)"
   ]
  },
  {
   "cell_type": "code",
   "execution_count": 70,
   "id": "dense-notification",
   "metadata": {},
   "outputs": [
    {
     "name": "stdout",
     "output_type": "stream",
     "text": [
      "Index(['1_subjettiness_0.5', '1_subjettiness_1.0', '1_subjettiness_2.0',\n",
      "       '2_subjettiness_0.5', '2_subjettiness_1.0', '2_subjettiness_2.0',\n",
      "       '3_subjettiness_0.5', '3_subjettiness_1.0', '3_subjettiness_2.0',\n",
      "       '4_subjettiness_0.5', '4_subjettiness_1.0', '4_subjettiness_2.0',\n",
      "       '5_subjettiness_0.5', '5_subjettiness_1.0', '5_subjettiness_2.0',\n",
      "       '6_subjettiness_0.5', '6_subjettiness_1.0', '6_subjettiness_2.0',\n",
      "       '7_subjettiness_0.5', '7_subjettiness_1.0', '7_subjettiness_2.0',\n",
      "       '8_subjettiness_0.5', '8_subjettiness_1.0', '8_subjettiness_2.0', 'm',\n",
      "       'pT', 'truthE', 'truthPX', 'truthPY', 'truthPZ', 'ttv',\n",
      "       'is_signal_new'],\n",
      "      dtype='object')\n"
     ]
    }
   ],
   "source": [
    "print(keys)"
   ]
  },
  {
   "cell_type": "code",
   "execution_count": 77,
   "id": "appropriate-kenya",
   "metadata": {},
   "outputs": [
    {
     "data": {
      "text/plain": [
       "tensor([[0.],\n",
       "        [0.],\n",
       "        [0.],\n",
       "        ...,\n",
       "        [1.],\n",
       "        [1.],\n",
       "        [1.]])"
      ]
     },
     "execution_count": 77,
     "metadata": {},
     "output_type": "execute_result"
    }
   ],
   "source": [
    "input_vec = df_training[keys[0:-7]]\n",
    "training_input = torch.tensor(input_vec.values)\n",
    "val_input = torch.tensor(df_val[keys[0:-7]].values)\n",
    "\n",
    "labels = df_training[keys[-1]]\n",
    "training_labels = torch.tensor(labels.values)\n",
    "val_labels = torch.tensor(df_val[keys[-1]].values)\n",
    "\n",
    "torch.reshape(training_labels, (len(training_labels), 1))\n",
    "torch.reshape(val_labels, (len(val_labels), 1))"
   ]
  },
  {
   "cell_type": "code",
   "execution_count": 81,
   "id": "analyzed-choir",
   "metadata": {},
   "outputs": [],
   "source": [
    "model = torch.nn.Sequential(\n",
    "    torch.nn.Linear(25, 40),\n",
    "    torch.nn.ReLU(),\n",
    "    torch.nn.Linear(40, 25),\n",
    "    torch.nn.ReLU(),\n",
    "    torch.nn.Linear(25, 20),\n",
    "    torch.nn.ReLU(),\n",
    "    torch.nn.Linear(20, 1),\n",
    "    torch.nn.Sigmoid()\n",
    ")\n",
    "\n",
    "loss_fn = torch.nn.BCELoss()"
   ]
  },
  {
   "cell_type": "code",
   "execution_count": 82,
   "id": "possible-fountain",
   "metadata": {},
   "outputs": [],
   "source": [
    "learning_rate = 0.04\n",
    "epochs = 500\n",
    "\n",
    "optimizer = torch.optim.SGD(model.parameters(), lr=learning_rate)"
   ]
  },
  {
   "cell_type": "code",
   "execution_count": 83,
   "id": "played-tracker",
   "metadata": {},
   "outputs": [
    {
     "name": "stdout",
     "output_type": "stream",
     "text": [
      "epoch: 0, loss: 0.6998, accuracy: 0.5000, AUC: 0.2080\n",
      "epoch: 50, loss: 0.6810, accuracy: 0.5015, AUC: 0.8775\n",
      "epoch: 100, loss: 0.6487, accuracy: 0.7969, AUC: 0.8782\n",
      "epoch: 150, loss: 0.5558, accuracy: 0.8176, AUC: 0.8845\n",
      "epoch: 200, loss: 0.4269, accuracy: 0.8472, AUC: 0.9121\n",
      "epoch: 250, loss: 0.3290, accuracy: 0.8905, AUC: 0.9416\n",
      "epoch: 300, loss: 0.2755, accuracy: 0.9012, AUC: 0.9497\n",
      "epoch: 350, loss: 0.2556, accuracy: 0.9037, AUC: 0.9534\n",
      "epoch: 400, loss: 0.2464, accuracy: 0.9050, AUC: 0.9561\n",
      "epoch: 450, loss: 0.2407, accuracy: 0.9057, AUC: 0.9583\n"
     ]
    },
    {
     "data": {
      "image/png": "[encoded data removed]",
      "text/plain": [
       "<Figure size 432x288 with 1 Axes>"
      ]
     },
     "metadata": {
      "needs_background": "light"
     },
     "output_type": "display_data"
    }
   ],
   "source": [
    "loss_arr = []\n",
    "acc_arr = []\n",
    "auc_arr = []\n",
    "for e in range(epochs):\n",
    "    label_pred = model(training_input)\n",
    "    loss = loss_fn(label_pred, training_labels.reshape(-1, 1))\n",
    "    val_pred = model(val_input)\n",
    "    acc_arr.append(1 - torch.sum(torch.abs(model(val_input).round() - val_labels.reshape(-1, 1))).item()/len(val_labels))\n",
    "    loss_arr.append(loss.item())\n",
    "    auc_arr.append(roc_auc_score(val_labels.detach().numpy(), val_pred.detach().numpy()))\n",
    "    if e % 50 == 0:\n",
    "        print(\"epoch: %d, loss: %.4f, accuracy: %.4f, AUC: %.4f\" % (e, loss.item(), acc_arr[e], auc_arr[e]))\n",
    "    optimizer.zero_grad()\n",
    "    loss.backward()\n",
    "    optimizer.step()\n",
    "plt.plot(range(epochs), loss_arr)\n",
    "plt.plot(range(epochs), acc_arr)\n",
    "plt.plot(range(epochs), auc_arr)\n",
    "plt.show()"
   ]
  },
  {
   "cell_type": "code",
   "execution_count": null,
   "id": "deluxe-disposition",
   "metadata": {},
   "outputs": [],
   "source": []
  }
 ],
 "metadata": {
  "kernelspec": {
   "display_name": "Python 3",
   "language": "python",
   "name": "python3"
  },
  "language_info": {
   "codemirror_mode": {
    "name": "ipython",
    "version": 3
   },
   "file_extension": ".py",
   "mimetype": "text/x-python",
   "name": "python",
   "nbconvert_exporter": "python",
   "pygments_lexer": "ipython3",
   "version": "3.9.4"
  }
 },
 "nbformat": 4,
 "nbformat_minor": 5
}
