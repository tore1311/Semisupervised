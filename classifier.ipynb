{
 "cells": [
  {
   "cell_type": "code",
   "execution_count": 5,
   "id": "involved-office",
   "metadata": {},
   "outputs": [],
   "source": [
    "import numpy as np\n",
    "import pandas as pd\n",
    "import h5py\n",
    "import torch\n",
    "import matplotlib.pyplot as plt"
   ]
  },
  {
   "cell_type": "code",
   "execution_count": 6,
   "id": "american-research",
   "metadata": {},
   "outputs": [],
   "source": [
    "df_training = pd.read_hdf('./NSubjetiness_TopData/train_subjettiness.h5', key='table')\n",
    "keys = df_training.keys()"
   ]
  },
  {
   "cell_type": "code",
   "execution_count": 7,
   "id": "systematic-garage",
   "metadata": {},
   "outputs": [],
   "source": [
    "mean_values = []\n",
    "std_values = []\n",
    "for k in range(27):\n",
    "    mean_values.append(np.mean(df_training[keys[k]]))\n",
    "    std_values.append(np.std(df_training[keys[k]]))\n",
    "    df_training[keys[k]] = (df_training[keys[k]] - np.mean(df_training[keys[k]])) / np.std(df_training[keys[k]])"
   ]
  },
  {
   "cell_type": "code",
   "execution_count": null,
   "id": "amino-calendar",
   "metadata": {},
   "outputs": [],
   "source": [
    "for i in range(len(df_training)):\n",
    "    if(i % 50000 == 0):\n",
    "        print(i / len(df_training) * 100)\n",
    "    for j in range(len(keys)):\n",
    "        if not df_training.iloc[i][j] == df_training.iloc[i][j]:\n",
    "            print(\"yes\", i, j)\n",
    "            df_training.drop(df.index[i], inplace=True)"
   ]
  },
  {
   "cell_type": "code",
   "execution_count": 8,
   "id": "unusual-palestinian",
   "metadata": {},
   "outputs": [],
   "source": [
    "df_training.drop(df_training.index[456856], inplace=True)"
   ]
  },
  {
   "cell_type": "code",
   "execution_count": 9,
   "id": "dense-notification",
   "metadata": {},
   "outputs": [
    {
     "name": "stdout",
     "output_type": "stream",
     "text": [
      "Index(['1_subjettiness_0.5', '1_subjettiness_1.0', '1_subjettiness_2.0',\n",
      "       '2_subjettiness_0.5', '2_subjettiness_1.0', '2_subjettiness_2.0',\n",
      "       '3_subjettiness_0.5', '3_subjettiness_1.0', '3_subjettiness_2.0',\n",
      "       '4_subjettiness_0.5', '4_subjettiness_1.0', '4_subjettiness_2.0',\n",
      "       '5_subjettiness_0.5', '5_subjettiness_1.0', '5_subjettiness_2.0',\n",
      "       '6_subjettiness_0.5', '6_subjettiness_1.0', '6_subjettiness_2.0',\n",
      "       '7_subjettiness_0.5', '7_subjettiness_1.0', '7_subjettiness_2.0',\n",
      "       '8_subjettiness_0.5', '8_subjettiness_1.0', '8_subjettiness_2.0', 'm',\n",
      "       'pT', 'truthE', 'truthPX', 'truthPY', 'truthPZ', 'ttv',\n",
      "       'is_signal_new'],\n",
      "      dtype='object')\n"
     ]
    }
   ],
   "source": [
    "print(keys)"
   ]
  },
  {
   "cell_type": "code",
   "execution_count": 10,
   "id": "appropriate-kenya",
   "metadata": {},
   "outputs": [
    {
     "name": "stdout",
     "output_type": "stream",
     "text": [
      "torch.Size([1209789, 25])\n"
     ]
    }
   ],
   "source": [
    "input_vec = df_training[keys[0:-7]]\n",
    "training_input = torch.tensor(input_vec.values)\n",
    "labels = df_training[keys[-1]]\n",
    "training_labels = torch.tensor(labels.values)\n",
    "torch.reshape(training_labels, (len(training_labels), 1))"
   ]
  },
  {
   "cell_type": "code",
   "execution_count": 18,
   "id": "analyzed-choir",
   "metadata": {},
   "outputs": [],
   "source": [
    "model = torch.nn.Sequential(\n",
    "    torch.nn.Linear(25, 50),\n",
    "    torch.nn.Sigmoid(),\n",
    "    torch.nn.Linear(50, 1),\n",
    "    torch.nn.Sigmoid()\n",
    ")\n",
    "\n",
    "loss_fn = torch.nn.BCELoss()"
   ]
  },
  {
   "cell_type": "code",
   "execution_count": 19,
   "id": "possible-fountain",
   "metadata": {},
   "outputs": [],
   "source": [
    "learning_rate = 0.01\n",
    "epochs = 500\n",
    "\n",
    "optimizer = torch.optim.SGD(model.parameters(), lr=learning_rate)"
   ]
  },
  {
   "cell_type": "code",
   "execution_count": 20,
   "id": "played-tracker",
   "metadata": {},
   "outputs": [
    {
     "name": "stdout",
     "output_type": "stream",
     "text": [
      "0 0.7613349556922913\n",
      "50 0.5236733555793762\n",
      "100 0.4591508209705353\n",
      "150 0.4175248146057129\n",
      "200 0.3883463740348816\n",
      "250 0.3672076165676117\n",
      "300 0.351462721824646\n",
      "350 0.3394395709037781\n",
      "400 0.330054372549057\n",
      "450 0.3225862681865692\n"
     ]
    },
    {
     "data": {
      "image/png": "[encoded data removed]",
      "text/plain": [
       "<Figure size 432x288 with 1 Axes>"
      ]
     },
     "metadata": {
      "needs_background": "light"
     },
     "output_type": "display_data"
    }
   ],
   "source": [
    "for e in range(epochs):\n",
    "    label_pred = model(training_input)\n",
    "    loss = loss_fn(label_pred, training_labels.reshape(-1, 1))\n",
    "    plt.plot(e, loss.item(), \"x\")\n",
    "    if e % 50 == 0:\n",
    "        print(e, loss.item())\n",
    "    optimizer.zero_grad()\n",
    "    loss.backward()\n",
    "    optimizer.step()\n",
    "plt.show()"
   ]
  },
  {
   "cell_type": "code",
   "execution_count": null,
   "id": "understanding-oliver",
   "metadata": {},
   "outputs": [],
   "source": []
  }
 ],
 "metadata": {
  "kernelspec": {
   "display_name": "Python 3",
   "language": "python",
   "name": "python3"
  },
  "language_info": {
   "codemirror_mode": {
    "name": "ipython",
    "version": 3
   },
   "file_extension": ".py",
   "mimetype": "text/x-python",
   "name": "python",
   "nbconvert_exporter": "python",
   "pygments_lexer": "ipython3",
   "version": "3.9.3"
  }
 },
 "nbformat": 4,
 "nbformat_minor": 5
}
