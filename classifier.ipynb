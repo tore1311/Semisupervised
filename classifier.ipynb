{
 "cells": [
  {
   "cell_type": "code",
   "execution_count": 2,
   "id": "involved-office",
   "metadata": {},
   "outputs": [],
   "source": [
    "import numpy as np\n",
    "import pandas as pd\n",
    "import h5py\n",
    "import torch\n",
    "import matplotlib.pyplot as plt\n",
    "from sklearn.metrics import roc_auc_score\n",
    "from sklearn.metrics import roc_curve\n",
    "from torch.utils.data import Dataset, DataLoader"
   ]
  },
  {
   "cell_type": "code",
   "execution_count": 3,
   "id": "american-research",
   "metadata": {},
   "outputs": [],
   "source": [
    "df_training = pd.read_hdf('./NSubjetiness_TopData/train_subjettiness.h5', key='table')\n",
    "df_val = pd.read_hdf('./NSubjetiness_TopData/val_subjettiness.h5', key='table')\n",
    "df_test = pd.read_hdf('./NSubjetiness_TopData/test_subjettiness.h5', key='table')\n",
    "keys = df_training.keys()"
   ]
  },
  {
   "cell_type": "code",
   "execution_count": 4,
   "id": "systematic-garage",
   "metadata": {},
   "outputs": [],
   "source": [
    "mean_values = []\n",
    "std_values = []\n",
    "for k in range(27):\n",
    "    mean_values.append(np.mean(df_training[keys[k]]))\n",
    "    std_values.append(np.std(df_training[keys[k]]))\n",
    "    df_training[keys[k]] = (df_training[keys[k]] - mean_values[k]) / std_values[k]\n",
    "    df_val[keys[k]] = (df_val[keys[k]] - mean_values[k]) / std_values[k]\n",
    "    df_test[keys[k]] = (df_test[keys[k]] - mean_values[k]) / std_values[k]"
   ]
  },
  {
   "cell_type": "code",
   "execution_count": 5,
   "id": "amino-calendar",
   "metadata": {},
   "outputs": [],
   "source": [
    "def removeNaN(df):\n",
    "    rm_ind = []\n",
    "    for i in range(len(df)):\n",
    "        if(i % 5000 == 0):\n",
    "            print(i / len(df) * 100)\n",
    "        for j in range(len(keys)):\n",
    "            if not df.iloc[i][j] == df.iloc[i][j]:\n",
    "                print(\"yes\", i, j)\n",
    "                rm_ind.append(i)\n",
    "    for j in range(len(rm_ind)):\n",
    "        df.drop(df.index[rm_ind[len(rm_ind)-j]], inplace=True)"
   ]
  },
  {
   "cell_type": "code",
   "execution_count": 6,
   "id": "paperback-gravity",
   "metadata": {},
   "outputs": [],
   "source": [
    "#removeNaN(df_training)\n",
    "#removeNaN(df_val)\n",
    "#removeNaN(df_test)"
   ]
  },
  {
   "cell_type": "code",
   "execution_count": 7,
   "id": "unusual-palestinian",
   "metadata": {},
   "outputs": [],
   "source": [
    "df_training.drop(df_training.index[456856], inplace=True)\n",
    "df_val.drop(df_val.index[199765], inplace=True)\n",
    "df_test.drop([df_test.index[80126], df_test.index[49496]], inplace=True)"
   ]
  },
  {
   "cell_type": "code",
   "execution_count": 50,
   "id": "f4d78de7",
   "metadata": {},
   "outputs": [],
   "source": [
    "df_test.to_csv(r'./data/test_data.txt')\n",
    "df_training.to_csv(r'/home/tore/Uni/Sem6/Bachelorarbeit/data/train_data.txt')\n",
    "df_val.to_csv(r'/home/tore/Uni/Sem6/Bachelorarbeit/data/val_data.txt')"
   ]
  },
  {
   "cell_type": "code",
   "execution_count": 8,
   "id": "competitive-karma",
   "metadata": {},
   "outputs": [
    {
     "name": "stdout",
     "output_type": "stream",
     "text": [
      "running on CPU\n"
     ]
    }
   ],
   "source": [
    "if torch.cuda.is_available():\n",
    "    dev = \"cuda:0\"\n",
    "    print(\"running on GPU\")\n",
    "else:\n",
    "    print(\"running on CPU\")\n",
    "    dev = \"cpu\"\n",
    "    \n",
    "device = torch.device(dev)"
   ]
  },
  {
   "cell_type": "code",
   "execution_count": 9,
   "id": "dense-notification",
   "metadata": {},
   "outputs": [
    {
     "name": "stdout",
     "output_type": "stream",
     "text": [
      "Index(['1_subjettiness_0.5', '1_subjettiness_1.0', '1_subjettiness_2.0',\n",
      "       '2_subjettiness_0.5', '2_subjettiness_1.0', '2_subjettiness_2.0',\n",
      "       '3_subjettiness_0.5', '3_subjettiness_1.0', '3_subjettiness_2.0',\n",
      "       '4_subjettiness_0.5', '4_subjettiness_1.0', '4_subjettiness_2.0',\n",
      "       '5_subjettiness_0.5', '5_subjettiness_1.0', '5_subjettiness_2.0',\n",
      "       '6_subjettiness_0.5', '6_subjettiness_1.0', '6_subjettiness_2.0',\n",
      "       '7_subjettiness_0.5', '7_subjettiness_1.0', '7_subjettiness_2.0',\n",
      "       '8_subjettiness_0.5', '8_subjettiness_1.0', '8_subjettiness_2.0', 'm',\n",
      "       'pT', 'truthE', 'truthPX', 'truthPY', 'truthPZ', 'ttv',\n",
      "       'is_signal_new'],\n",
      "      dtype='object')\n"
     ]
    }
   ],
   "source": [
    "print(keys)"
   ]
  },
  {
   "cell_type": "code",
   "execution_count": 10,
   "id": "appropriate-kenya",
   "metadata": {},
   "outputs": [
    {
     "data": {
      "text/plain": [
       "tensor([[0.],\n",
       "        [0.],\n",
       "        [0.],\n",
       "        ...,\n",
       "        [1.],\n",
       "        [1.],\n",
       "        [1.]])"
      ]
     },
     "execution_count": 10,
     "metadata": {},
     "output_type": "execute_result"
    }
   ],
   "source": [
    "input_vec = df_training[keys[0:-6]]\n",
    "training_input = torch.tensor(input_vec.values).to(device)\n",
    "val_input = torch.tensor(df_val[keys[0:-6]].values).to(device)\n",
    "\n",
    "labels = df_training[keys[-1]]\n",
    "training_labels = torch.tensor(labels.values).to(device)\n",
    "val_labels = torch.tensor(df_val[keys[-1]].values).to(device)\n",
    "\n",
    "torch.reshape(training_labels, (len(training_labels), 1))\n",
    "torch.reshape(val_labels, (len(val_labels), 1))"
   ]
  },
  {
   "cell_type": "code",
   "execution_count": 13,
   "id": "analyzed-choir",
   "metadata": {},
   "outputs": [],
   "source": [
    "model = torch.nn.Sequential(\n",
    "    torch.nn.Linear(26, 100),\n",
    "    torch.nn.ReLU(),\n",
    "    torch.nn.Linear(100, 1),\n",
    "    torch.nn.Sigmoid()\n",
    ")\n",
    "\n",
    "model = model.to(device)\n",
    "loss_fn = torch.nn.BCELoss()"
   ]
  },
  {
   "cell_type": "code",
   "execution_count": 14,
   "id": "possible-fountain",
   "metadata": {},
   "outputs": [],
   "source": [
    "learning_rate = 0.1\n",
    "epochs = 50\n",
    "\n",
    "optimizer = torch.optim.SGD(model.parameters(), lr=learning_rate)"
   ]
  },
  {
   "cell_type": "code",
   "execution_count": 15,
   "id": "played-tracker",
   "metadata": {},
   "outputs": [
    {
     "name": "stdout",
     "output_type": "stream",
     "text": [
      "epoch: 0, loss: 0.6639, accuracy: 0.6409, AUC: 0.7795, background rejection at 30 percent: 9.6448\n"
     ]
    },
    {
     "data": {
      "image/png": "[encoded data removed]",
      "text/plain": [
       "<Figure size 432x288 with 1 Axes>"
      ]
     },
     "metadata": {
      "needs_background": "light"
     },
     "output_type": "display_data"
    }
   ],
   "source": [
    "loss_train_arr = []\n",
    "loss_val_arr = []\n",
    "acc_arr = []\n",
    "auc_arr = []\n",
    "bkg_rej = []\n",
    "for e in range(epochs):\n",
    "    torch.cuda.empty_cache()\n",
    "    label_pred = model(training_input)\n",
    "    loss_train = loss_fn(label_pred, training_labels.reshape(-1, 1))\n",
    "    \n",
    "    with torch.no_grad():\n",
    "        val_label_pred = model(val_input)\n",
    "        loss_val = loss_fn(val_label_pred, val_labels.reshape(-1, 1))\n",
    "        acc_arr.append(1 - torch.sum(torch.abs(val_label_pred.round() - val_labels.reshape(-1, 1))).item()/len(val_labels))\n",
    "        loss_train_arr.append(loss_train.item())\n",
    "        loss_val_arr.append(loss_val.item())\n",
    "        auc_arr.append(roc_auc_score(val_labels.cpu().detach().numpy(), val_label_pred.cpu().detach().numpy()))\n",
    "        fpr, tpr, thresholds = roc_curve(val_labels.cpu().detach().numpy(), val_label_pred.cpu().detach().numpy())\n",
    "        bkg_rej.append(1/fpr[np.argmin(np.abs(tpr-0.3))])\n",
    "        if e % 50 == 0:\n",
    "            print(\"epoch: %d, loss: %.4f, accuracy: %.4f, AUC: %.4f, background rejection at 30 percent: %.4f\" % (e, loss_train.item(), acc_arr[e], auc_arr[e], bkg_rej[e]))\n",
    "            plt.plot(fpr, tpr) \n",
    "            \n",
    "    optimizer.zero_grad()\n",
    "    loss_train.backward()\n",
    "    optimizer.step()"
   ]
  },
  {
   "cell_type": "code",
   "execution_count": 16,
   "id": "artificial-brazilian",
   "metadata": {},
   "outputs": [
    {
     "data": {
      "image/png": "[encoded data removed]",
      "text/plain": [
       "<Figure size 1440x360 with 3 Axes>"
      ]
     },
     "metadata": {
      "needs_background": "light"
     },
     "output_type": "display_data"
    }
   ],
   "source": [
    "cut_epochs = 10\n",
    "\n",
    "fig, (ax1, ax2, ax3) = plt.subplots(1, 3, figsize=(20, 5))\n",
    "\n",
    "ax1.plot(range(epochs)[cut_epochs:], loss_train_arr[cut_epochs:], label='loss training set')\n",
    "ax1.plot(range(epochs)[cut_epochs:], loss_val_arr[cut_epochs:], label='loss validation set')\n",
    "ax1.legend(loc='upper right')\n",
    "ax2.plot(range(epochs)[cut_epochs:], acc_arr[cut_epochs:], label='accuracy validation set')\n",
    "ax2.plot(range(epochs)[cut_epochs:], auc_arr[cut_epochs:], label='AUC validation set')\n",
    "ax2.legend(loc='lower right')\n",
    "ax3.plot(range(epochs)[cut_epochs:], bkg_rej[cut_epochs:])\n",
    "plt.show()"
   ]
  },
  {
   "cell_type": "code",
   "execution_count": 17,
   "id": "deluxe-disposition",
   "metadata": {},
   "outputs": [
    {
     "name": "stdout",
     "output_type": "stream",
     "text": [
      "accuracy test set: 0.8958\n",
      "AUC test set: 0.9435\n",
      "background rejection at 30 percent: 42.0441\n"
     ]
    }
   ],
   "source": [
    "with torch.no_grad():\n",
    "    test_input = torch.tensor(df_test[keys[0:-6]].values).to(device)\n",
    "    test_labels = torch.tensor(df_test[keys[-1]].values).to(device)\n",
    "    test_label_pred = model(test_input)\n",
    "    print(\"accuracy test set: %.4f\" % (1 - torch.sum(torch.abs(test_label_pred.round() - test_labels.reshape(-1, 1))).item()/len(test_labels)))\n",
    "    print(\"AUC test set: %.4f\" % (roc_auc_score(val_labels.cpu().detach().numpy(), val_label_pred.cpu().detach().numpy())))\n",
    "    fpr, tpr, thresholds = roc_curve(val_labels.cpu().detach().numpy(), val_label_pred.cpu().detach().numpy())\n",
    "    print(\"background rejection at 30 percent: %.4f\" % (1/fpr[np.argmin(np.abs(tpr-0.3))]))"
   ]
  },
  {
   "cell_type": "code",
   "execution_count": 18,
   "id": "continental-friday",
   "metadata": {},
   "outputs": [
    {
     "data": {
      "image/png": "[encoded data removed]",
      "text/plain": [
       "<Figure size 432x288 with 1 Axes>"
      ]
     },
     "metadata": {
      "needs_background": "light"
     },
     "output_type": "display_data"
    }
   ],
   "source": [
    "plt.hist(test_label_pred.detach().numpy(), density=True, bins=100)\n",
    "plt.show()"
   ]
  },
  {
   "cell_type": "code",
   "execution_count": null,
   "id": "b7fa0385",
   "metadata": {},
   "outputs": [],
   "source": []
  }
 ],
 "metadata": {
  "kernelspec": {
   "display_name": "Python 3",
   "language": "python",
   "name": "python3"
  },
  "language_info": {
   "codemirror_mode": {
    "name": "ipython",
    "version": 3
   },
   "file_extension": ".py",
   "mimetype": "text/x-python",
   "name": "python",
   "nbconvert_exporter": "python",
   "pygments_lexer": "ipython3",
   "version": "3.9.4"
  }
 },
 "nbformat": 4,
 "nbformat_minor": 5
}
