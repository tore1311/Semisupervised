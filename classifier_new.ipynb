{
 "cells": [
  {
   "cell_type": "code",
   "execution_count": 1,
   "id": "ac05b1dc",
   "metadata": {},
   "outputs": [],
   "source": [
    "import numpy as np\n",
    "import pandas as pd\n",
    "import h5py\n",
    "import torch\n",
    "import matplotlib.pyplot as plt\n",
    "from sklearn.metrics import roc_auc_score\n",
    "from sklearn.metrics import roc_curve\n",
    "from torch.utils.data import Dataset, DataLoader"
   ]
  },
  {
   "cell_type": "code",
   "execution_count": 2,
   "id": "d223c343",
   "metadata": {},
   "outputs": [
    {
     "name": "stdout",
     "output_type": "stream",
     "text": [
      "running on CPU\n"
     ]
    }
   ],
   "source": [
    "if torch.cuda.is_available():\n",
    "    dev = \"cuda:0\"\n",
    "    print(\"running on GPU\")\n",
    "else:\n",
    "    print(\"running on CPU\")\n",
    "    dev = \"cpu\"\n",
    "    \n",
    "device = torch.device(dev)"
   ]
  },
  {
   "cell_type": "code",
   "execution_count": 3,
   "id": "e8b66c2e",
   "metadata": {},
   "outputs": [],
   "source": [
    "class train_dataset(Dataset):\n",
    "    def __init__(self):\n",
    "        data = np.loadtxt('./data/train_data.txt', dtype=np.float32, delimiter=\",\", skiprows=1)\n",
    "        self.x = torch.tensor(data[:, 1:-6])\n",
    "        self.y = torch.tensor(data[:, [-1]])\n",
    "        self.n_samples = data.shape[0]\n",
    "        \n",
    "    def __getitem__(self, index):\n",
    "        return self.x[index], self.y[index]\n",
    "        \n",
    "    def __len__(self):\n",
    "        return self.n_samples"
   ]
  },
  {
   "cell_type": "code",
   "execution_count": 16,
   "id": "0a56fdeb",
   "metadata": {},
   "outputs": [],
   "source": [
    "def train_supervised(model, train_loader, val_input, val_labels, save_model=False):\n",
    "    optimizer = torch.optim.SGD(model.parameters(), lr=learning_rate)\n",
    "    loss_fn = torch.nn.BCELoss()\n",
    "    loss_train_arr = []\n",
    "    loss_val_arr = []\n",
    "    acc_arr = []\n",
    "    auc_arr = []\n",
    "    bkg_rej = []\n",
    "    for e in range(epochs):\n",
    "        loss_sum = 0\n",
    "        for i, (train_input, train_label) in enumerate(train_loader):\n",
    "            train_input = train_input.to(device)\n",
    "            train_label = train_label.to(device)\n",
    "            label_pred = model(train_input)\n",
    "            loss_train = loss_fn(label_pred, train_label.reshape(-1, 1))\n",
    "            loss_sum += loss_train.item()\n",
    "        \n",
    "            optimizer.zero_grad()\n",
    "            loss_train.backward()\n",
    "            optimizer.step()\n",
    "    \n",
    "        with torch.no_grad():\n",
    "            val_label_pred = model(val_input)\n",
    "            loss_val = loss_fn(val_label_pred, val_labels.reshape(-1, 1))\n",
    "            acc_arr.append(1 - torch.sum(torch.abs(val_label_pred.round() - val_labels.reshape(-1, 1))).item()/len(val_labels))\n",
    "            loss_train_arr.append(loss_sum/iterations)\n",
    "            loss_val_arr.append(loss_val.item())\n",
    "            auc_arr.append(roc_auc_score(val_labels.cpu().detach().numpy(), val_label_pred.cpu().detach().numpy()))\n",
    "            fpr, tpr, thresholds = roc_curve(val_labels.cpu().detach().numpy(), val_label_pred.cpu().detach().numpy())\n",
    "            bkg_rej.append(1/fpr[np.argmin(np.abs(tpr-0.3))])\n",
    "                \n",
    "        if e % 100 == 0:\n",
    "            print(\"epoch: %d, loss: %.4f, accuracy: %.4f, AUC: %.4f, background rejection at 30 percent: %.4f\" % (e, loss_sum/iterations, acc_arr[e], auc_arr[e], bkg_rej[e]))\n",
    "        \n",
    "        cut_epochs = 10\n",
    "\n",
    "    plot_learning(epochs, cut_epochs, loss_train_arr, loss_val_array, acc_arr, auc_arr, bkg_rej)\n",
    "    torch.save(model.state_dict(), './data/model_100per.pt')"
   ]
  },
  {
   "cell_type": "code",
   "execution_count": 20,
   "id": "e1e067fa",
   "metadata": {},
   "outputs": [],
   "source": [
    "def plot_learning(epochs, cut_epochs, loss_train_arr, loss_val_array, acc_arr, auc_arr, bkg_rej):\n",
    "    fig, (ax1, ax2, ax3) = plt.subplots(1, 3, figsize=(20, 5))\n",
    "    ax1.plot(range(epochs)[cut_epochs:], loss_train_arr[cut_epochs:], label='loss training set')\n",
    "    ax1.plot(range(epochs)[cut_epochs:], loss_val_arr[cut_epochs:], label='loss validation set')\n",
    "    ax1.legend(loc='upper right')\n",
    "    ax2.plot(range(epochs)[cut_epochs:], acc_arr[cut_epochs:], label='accuracy validation set')\n",
    "    ax2.plot(range(epochs)[cut_epochs:], auc_arr[cut_epochs:], label='AUC validation set')\n",
    "    ax2.legend(loc='lower right')\n",
    "    ax3.plot(range(epochs)[cut_epochs:], bkg_rej[cut_epochs:])\n",
    "    plt.show()"
   ]
  },
  {
   "cell_type": "code",
   "execution_count": 19,
   "id": "b9b730f6",
   "metadata": {},
   "outputs": [],
   "source": [
    "def evaluate(model, test_input, test_labels):\n",
    "    with torch.no_grad():\n",
    "        test_label_pred = model(test_input)\n",
    "        print(\"accuracy test set: %.4f\" % (1 - torch.sum(torch.abs(test_label_pred.round() - test_labels.reshape(-1, 1))).item()/len(test_labels)))\n",
    "        print(\"AUC test set: %.4f\" % (roc_auc_score(test_labels.cpu().detach().numpy(), test_label_pred.cpu().detach().numpy())))\n",
    "        fpr, tpr, thresholds = roc_curve(test_labels.cpu().detach().numpy(), test_label_pred.cpu().detach().numpy())\n",
    "        print(\"background rejection at 30 percent: %.4f\" % (1/fpr[np.argmin(np.abs(tpr-0.3))]))\n",
    "        plt.semilogy(tpr[fpr>0], 1/fpr[fpr>0]) "
   ]
  },
  {
   "cell_type": "code",
   "execution_count": 5,
   "id": "a5963448",
   "metadata": {},
   "outputs": [],
   "source": [
    "val_data = np.loadtxt('./data/val_data.txt', dtype=np.float32, delimiter=\",\", skiprows=1)\n",
    "val_input = torch.tensor(val_data[:, 1:-6]).to(device)\n",
    "val_labels = torch.tensor(val_data[:, -1]).to(device)\n",
    "test_data = np.loadtxt('./data/test_data.txt', dtype=np.float32, delimiter=\",\", skiprows=1)\n",
    "test_input = torch.tensor(test_data[:, 1:-6]).to(device)\n",
    "test_labels = torch.tensor(test_data[:, -1]).to(device)"
   ]
  },
  {
   "cell_type": "code",
   "execution_count": 6,
   "id": "0f8040e6",
   "metadata": {},
   "outputs": [],
   "source": [
    "model = torch.nn.Sequential(\n",
    "    torch.nn.Linear(26, 100),\n",
    "    torch.nn.ReLU(),\n",
    "    torch.nn.Linear(100, 100),\n",
    "    torch.nn.ReLU(),\n",
    "    torch.nn.Linear(100, 1),\n",
    "    torch.nn.Sigmoid()\n",
    ")\n",
    "\n",
    "model = model.to(device)\n",
    "train_data = train_dataset()"
   ]
  },
  {
   "cell_type": "code",
   "execution_count": 17,
   "id": "d924dc83",
   "metadata": {},
   "outputs": [
    {
     "name": "stdout",
     "output_type": "stream",
     "text": [
      "151223\n",
      "epoch: 0, loss: 0.1830, accuracy: 0.9260, AUC: 0.9778, background rejection at 30 percent: 505.7965\n",
      "epoch: 2, loss: 0.1829, accuracy: 0.9260, AUC: 0.9779, background rejection at 30 percent: 504.5288\n",
      "epoch: 4, loss: 0.1829, accuracy: 0.9260, AUC: 0.9779, background rejection at 30 percent: 505.7965\n",
      "epoch: 6, loss: 0.1828, accuracy: 0.9260, AUC: 0.9779, background rejection at 30 percent: 507.0705\n",
      "epoch: 8, loss: 0.1828, accuracy: 0.9260, AUC: 0.9779, background rejection at 30 percent: 507.0705\n"
     ]
    },
    {
     "data": {
      "image/png": "[encoded data removed]",
      "text/plain": [
       "<Figure size 1440x360 with 3 Axes>"
      ]
     },
     "metadata": {
      "needs_background": "light"
     },
     "output_type": "display_data"
    }
   ],
   "source": [
    "learning_rate = 0.1\n",
    "epochs = 10\n",
    "batch_size = 32\n",
    "iterations = int(train_data.__len__()/batch_size)\n",
    "\n",
    "train_loader = DataLoader(dataset=train_data, batch_size=batch_size, shuffle=True, drop_last=True)\n",
    "train_supervised(model, train_loader, val_input, val_labels)\n",
    "evaluate(model, test_input, test_labels)"
   ]
  },
  {
   "cell_type": "code",
   "execution_count": 12,
   "id": "f255c136",
   "metadata": {},
   "outputs": [
    {
     "data": {
      "image/png": "[encoded data removed]",
      "text/plain": [
       "<Figure size 432x288 with 1 Axes>"
      ]
     },
     "metadata": {
      "needs_background": "light"
     },
     "output_type": "display_data"
    }
   ],
   "source": [
    "plt.hist(test_label_pred.detach().numpy(), density=True, bins=100)\n",
    "plt.show()"
   ]
  },
  {
   "cell_type": "code",
   "execution_count": 13,
   "id": "4dc88baa",
   "metadata": {},
   "outputs": [],
   "source": []
  },
  {
   "cell_type": "code",
   "execution_count": null,
   "id": "93cc5054",
   "metadata": {},
   "outputs": [],
   "source": []
  }
 ],
 "metadata": {
  "kernelspec": {
   "display_name": "Python 3",
   "language": "python",
   "name": "python3"
  },
  "language_info": {
   "codemirror_mode": {
    "name": "ipython",
    "version": 3
   },
   "file_extension": ".py",
   "mimetype": "text/x-python",
   "name": "python",
   "nbconvert_exporter": "python",
   "pygments_lexer": "ipython3",
   "version": "3.9.4"
  }
 },
 "nbformat": 4,
 "nbformat_minor": 5
}
